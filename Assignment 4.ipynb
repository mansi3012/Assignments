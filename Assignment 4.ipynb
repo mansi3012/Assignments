{
 "cells": [
  {
   "cell_type": "code",
   "execution_count": 1,
   "metadata": {},
   "outputs": [
    {
     "name": "stdout",
     "output_type": "stream",
     "text": [
      "Enter the side a :4\n",
      "Enter the side b :5\n",
      "Enter the side c :6\n",
      "The sides of triangle are a = 4.0 b = 5.0 c = 6.0\n",
      "Area of the triangle is:  9.921567416492215\n"
     ]
    }
   ],
   "source": [
    "#Write a Python Program(with class concepts) to find the area of the triangle using the below formula.\n",
    "#area = (s*(s-a)*(s-b)*(s-c)) ** 0.5\n",
    "#Function to take the length of the sides of triangle from user should be defined in the parent class \n",
    "#Function to calculate the area should be defined in subclass.\n",
    "\n",
    "#Parent class\n",
    "class Triangle:\n",
    "    def __init__(self):\n",
    "        \n",
    "        sides = ['a','b','c']\n",
    "        self.TriangleSides=sides\n",
    "    \n",
    "    def sides_of_Triangle(self):\n",
    "        \n",
    "        self.sides_of_Triangle=[input(\"Enter the side \" + x + \" :\") for x in self.TriangleSides]\n",
    "\n",
    "#Sub class\n",
    "class Triangle_Area(Triangle):\n",
    "    def __init__(self):\n",
    "        \n",
    "        Triangle.__init__(self)\n",
    "        \n",
    "    def area(self):\n",
    "        triangle_sides = iter(self.sides_of_Triangle)\n",
    "        a=float(next(triangle_sides))\n",
    "        b=float(next(triangle_sides))\n",
    "        c=float(next(triangle_sides))\n",
    "        \n",
    "        s = (a+b+c)*0.5\n",
    "        \n",
    "        Area = ((s*(s-a)*(s-b)*(s-c)) ** 0.5)\n",
    "        print(\"The sides of triangle are a = \" + str(a) +\" b = \"+ str(b) + \" c = \" + str(c))\n",
    "        print(\"Area of the triangle is: \",Area)\n",
    "    \n",
    "Area_of_Triangle = Triangle_Area()\n",
    "Area_of_Triangle.sides_of_Triangle()\n",
    "Area_of_Triangle.area()"
   ]
  },
  {
   "cell_type": "code",
   "execution_count": 2,
   "metadata": {},
   "outputs": [
    {
     "name": "stdout",
     "output_type": "stream",
     "text": [
      "Enter words : python, complier, computer, language\n",
      "Enter any number : 8\n"
     ]
    },
    {
     "data": {
      "text/plain": [
       "'No longer words with specified number 8'"
      ]
     },
     "execution_count": 2,
     "metadata": {},
     "output_type": "execute_result"
    }
   ],
   "source": [
    "#Write a function filter_long_words() that takes a list of words and an integer n and returns the list of words that are longer than n.\n",
    "\n",
    "def filter_long_words(words,n):\n",
    "    \n",
    "    words=[x.strip() for x in words if len(x.strip()) > int(n)]\n",
    "    \n",
    "    if (len(words) > 0):\n",
    "        print(\"The list of words that are longer than \" + str(n) + \" are : \")\n",
    "        return words\n",
    "    else:\n",
    "        return \"No longer words with specified number \" + str(n)\n",
    "    \n",
    "    \n",
    "string = input(\"Enter words : \")\n",
    "num = input(\"Enter any number : \")\n",
    "\n",
    "list_of_words = list(string.split(\",\"))\n",
    "\n",
    "filter_long_words(list_of_words,num)"
   ]
  },
  {
   "cell_type": "code",
   "execution_count": 3,
   "metadata": {},
   "outputs": [
    {
     "name": "stdout",
     "output_type": "stream",
     "text": [
      "Enter words : python, complier, computer, language\n",
      "Enter any number : 6\n",
      "The list of words that are longer than 6 are : \n"
     ]
    },
    {
     "data": {
      "text/plain": [
       "['complier', 'computer', 'language']"
      ]
     },
     "execution_count": 3,
     "metadata": {},
     "output_type": "execute_result"
    }
   ],
   "source": [
    "string = input(\"Enter words : \")\n",
    "num = input(\"Enter any number : \")\n",
    "\n",
    "list_of_words = list(string.split(\",\"))\n",
    "\n",
    "filter_long_words(list_of_words,num)"
   ]
  },
  {
   "cell_type": "code",
   "execution_count": 4,
   "metadata": {},
   "outputs": [
    {
     "name": "stdout",
     "output_type": "stream",
     "text": [
      "Enter words: python, complier, computer\n",
      "The length of words are: [6, 8, 8]\n"
     ]
    }
   ],
   "source": [
    "#Write a Python program using function concept that maps list of words into a list of integers representing the lengths of the corresponding words.\n",
    "#Hint: If a list [ ab,cde,erty] is passed on to the python function output should come as [2,3,4]\n",
    "#Here 2,3 and 4 are the lengths of the words in the list.\n",
    "\n",
    "def word_to_length(List):\n",
    "    return list(map(len,List))\n",
    "\n",
    "words = list(input(\"Enter words: \").split(\",\"))\n",
    "\n",
    "List = [x.strip() for x in words]\n",
    "\n",
    "length = word_to_length(List)\n",
    "\n",
    "print(\"The length of words are: \" + str(length))"
   ]
  },
  {
   "cell_type": "code",
   "execution_count": 1,
   "metadata": {},
   "outputs": [
    {
     "name": "stdout",
     "output_type": "stream",
     "text": [
      "Enter character to check if it is vowel or not\n",
      "Enter character: M\n",
      "Output is:  False\n"
     ]
    }
   ],
   "source": [
    "#Write a Python function which takes a character (i.e. a string of length 1) and returns True if it is a vowel, False otherwise.\n",
    "\n",
    "def vowel(ch):\n",
    "    return_value =''\n",
    "    if (len(ch) == 1):\n",
    "        vowels = ['a','e','i','o','u']\n",
    "        if (ch.lower() in vowels):\n",
    "            return_value =True\n",
    "        else:\n",
    "            return_value = False\n",
    "    else:\n",
    "        return_value = \"Please enter single character only.\"\n",
    "        \n",
    "    return return_value\n",
    "\n",
    "print(\"Enter character to check if it is vowel or not\")\n",
    "value = input(\"Enter character: \")\n",
    "\n",
    "output_value = vowel(value)\n",
    "\n",
    "print(\"Output is: \",output_value)"
   ]
  },
  {
   "cell_type": "code",
   "execution_count": 2,
   "metadata": {},
   "outputs": [
    {
     "name": "stdout",
     "output_type": "stream",
     "text": [
      "Enter character to check if it is vowel or not\n",
      "Enter character: A\n",
      "Output is:  True\n"
     ]
    }
   ],
   "source": [
    "print(\"Enter character to check if it is vowel or not\")\n",
    "value = input(\"Enter character: \")\n",
    "\n",
    "output_value = vowel(value)\n",
    "\n",
    "print(\"Output is: \",output_value)"
   ]
  }
 ],
 "metadata": {
  "kernelspec": {
   "display_name": "Python 3",
   "language": "python",
   "name": "python3"
  },
  "language_info": {
   "codemirror_mode": {
    "name": "ipython",
    "version": 3
   },
   "file_extension": ".py",
   "mimetype": "text/x-python",
   "name": "python",
   "nbconvert_exporter": "python",
   "pygments_lexer": "ipython3",
   "version": "3.7.1"
  }
 },
 "nbformat": 4,
 "nbformat_minor": 2
}
