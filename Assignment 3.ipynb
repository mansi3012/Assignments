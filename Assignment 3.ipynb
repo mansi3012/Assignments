{
 "cells": [
  {
   "cell_type": "code",
   "execution_count": 1,
   "metadata": {},
   "outputs": [
    {
     "name": "stdout",
     "output_type": "stream",
     "text": [
      "Enter any number: 8\n",
      "List of first 8 natural number:  [1, 2, 3, 4, 5, 6, 7, 8]\n",
      "Sum of first 8 natural number 36\n"
     ]
    }
   ],
   "source": [
    "#Write a Python Program to implement your own myreduce() function which works exactly like Python's built-in function reduce()\n",
    "\n",
    "#This function will return sum of first N natural numbers\n",
    "\n",
    "def myreduce(n):\n",
    "    num = list(range(1,number+1))\n",
    "    sum = 0\n",
    "    \n",
    "    for x in num:\n",
    "        sum = sum + x\n",
    "        \n",
    "    return num,sum\n",
    "\n",
    "number = int(input(\"Enter any number: \"))\n",
    "\n",
    "value = myreduce(number)\n",
    "print(\"List of first \" + str(number) + \" natural number: \",value[0])\n",
    "print(\"Sum of first \" + str(number) + \" natural number\",value[1])"
   ]
  },
  {
   "cell_type": "code",
   "execution_count": 2,
   "metadata": {},
   "outputs": [
    {
     "name": "stdout",
     "output_type": "stream",
     "text": [
      "Enter any number: 8\n",
      "List of numbers:  [1, 2, 3, 4, 5, 6, 7, 8]\n",
      "List of even numbers, which are multiple of 3:  [6]\n",
      "List of odd numbers, which are multiple of 3:  [3]\n"
     ]
    }
   ],
   "source": [
    "#Write a Python program to implement your own myfilter() function which works exactly like Python's built-in function filter()\n",
    "\n",
    "#This function filters even and odd numbers from list which are multiple of 3\n",
    "\n",
    "number = int(input(\"Enter any number: \"))\n",
    "\n",
    "n_list = list(range(1,number+1))\n",
    "\n",
    "def myfilter(n_list):\n",
    "    even_list = []\n",
    "    odd_list = []\n",
    "    \n",
    "    for x in n_list:\n",
    "        if (x % 3 == 0):\n",
    "            if(x % 2 == 0):\n",
    "                even_list.append(x)\n",
    "            else:\n",
    "                odd_list.append(x)\n",
    "                    \n",
    "    return even_list,odd_list\n",
    "\n",
    "value = myfilter(n_list)\n",
    "\n",
    "print(\"List of numbers: \",n_list)\n",
    "print(\"List of even numbers, which are multiple of 3: \",value[0])\n",
    "print(\"List of odd numbers, which are multiple of 3: \",value[1]) "
   ]
  },
  {
   "cell_type": "code",
   "execution_count": 3,
   "metadata": {},
   "outputs": [
    {
     "name": "stdout",
     "output_type": "stream",
     "text": [
      "['x', 'xx', 'xxx', 'xxxx', 'y', 'yy', 'yyy', 'yyyy', 'z', 'zz', 'zzz', 'zzzz']\n"
     ]
    }
   ],
   "source": [
    "#Implement List comprehensions to produce the following lists.\n",
    "\n",
    "# 1. ['x', 'xx', 'xxx', 'xxxx', 'y', 'yy', 'yyy', 'yyyy', 'z', 'zz', 'zzz', 'zzzz']\n",
    "\n",
    "word = list('xyz')\n",
    "print([i*n for i in word for n in range(1,5)])"
   ]
  },
  {
   "cell_type": "code",
   "execution_count": 4,
   "metadata": {},
   "outputs": [
    {
     "name": "stdout",
     "output_type": "stream",
     "text": [
      "['x', 'y', 'z', 'xx', 'yy', 'zz', 'xxx', 'yyy', 'zzz', 'xxxx', 'yyyy', 'zzzz']\n"
     ]
    }
   ],
   "source": [
    "#Implement List comprehensions to produce the following lists.\n",
    "\n",
    "# 2. ['x', 'y', 'z', 'xx', 'yy', 'zz', 'xxx', 'yyy', 'zzz', 'xxxx', 'yyyy', 'zzzz']\n",
    "\n",
    "word = list('xyz')\n",
    "print([i*n for n in range(1,5) for i in word])"
   ]
  },
  {
   "cell_type": "code",
   "execution_count": 5,
   "metadata": {},
   "outputs": [
    {
     "name": "stdout",
     "output_type": "stream",
     "text": [
      "[[2], [3], [4], [3], [4], [5], [4], [5], [6]] [[2, 3, 4, 5], [3, 4, 5, 6], [4, 5, 6, 7], [5, 6, 7, 8]]\n"
     ]
    }
   ],
   "source": [
    "#Implement List comprehensions to produce the following lists.\n",
    "\n",
    "# 3. [[2], [3], [4], [3], [4], [5], [4], [5], [6]] [[2, 3, 4, 5], [3, 4, 5, 6], [4, 5, 6, 7], [5, 6, 7, 8]]\n",
    "\n",
    "number=[1,2,3]\n",
    "num = [1,2,3,4]\n",
    "print([[x+n] for x in number for n in range(1,4)] , [[x+n,x+n+1,x+n+2,x+n+3] for x in num for n in range(1,2) ])"
   ]
  },
  {
   "cell_type": "code",
   "execution_count": 6,
   "metadata": {},
   "outputs": [
    {
     "name": "stdout",
     "output_type": "stream",
     "text": [
      "[(1, 1), (2, 1), (3, 1), (1, 2), (2, 2), (3, 2), (1, 3), (2, 3), (3, 3)]\n"
     ]
    }
   ],
   "source": [
    "#Implement List comprehensions to produce the following lists.\n",
    "\n",
    "# 4. [(1, 1), (2, 1), (3, 1), (1, 2), (2, 2), (3, 2), (1, 3), (2, 3), (3, 3)]\n",
    "\n",
    "number = [1,2,3]\n",
    "print([(b,a) for a in number for b in number])"
   ]
  }
 ],
 "metadata": {
  "kernelspec": {
   "display_name": "Python 3",
   "language": "python",
   "name": "python3"
  },
  "language_info": {
   "codemirror_mode": {
    "name": "ipython",
    "version": 3
   },
   "file_extension": ".py",
   "mimetype": "text/x-python",
   "name": "python",
   "nbconvert_exporter": "python",
   "pygments_lexer": "ipython3",
   "version": "3.7.1"
  }
 },
 "nbformat": 4,
 "nbformat_minor": 2
}
