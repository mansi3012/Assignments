{
 "cells": [
  {
   "cell_type": "code",
   "execution_count": 1,
   "metadata": {},
   "outputs": [
    {
     "name": "stdout",
     "output_type": "stream",
     "text": [
      "Denominator has to be greater than 0, so any non-zero number divided by 0 is undefined.\n"
     ]
    }
   ],
   "source": [
    "#Write a function to compute 5/0 and use try/except to catch the exceptions.\n",
    "\n",
    "def division():\n",
    "    return 5/0\n",
    "\n",
    "try:\n",
    "    division()\n",
    "except ZeroDivisionError:\n",
    "    print('Denominator has to be greater than 0, so any non-zero number divided by 0 is undefined.')"
   ]
  },
  {
   "cell_type": "code",
   "execution_count": 2,
   "metadata": {},
   "outputs": [
    {
     "name": "stdout",
     "output_type": "stream",
     "text": [
      "Americans  play Baseball.\n",
      "Americans  play Cricket.\n",
      "Americans  watch Baseball.\n",
      "Americans  watch Cricket.\n",
      "Indians play Baseball.\n",
      "Indians play Cricket.\n",
      "Indians watch Baseball.\n",
      "Indians watch Cricket.\n"
     ]
    }
   ],
   "source": [
    "#Implement a Python program to generate all sentences where subject is in [\"Americans\", \"Indians\"] and \n",
    "#verb is in [\"Play\", \"watch\"] and \n",
    "#the object is in [\"Baseball\",\"cricket\"].\n",
    "\n",
    "#Hint: Subject,Verb and Object should be declared in the program as shown below.\n",
    "\n",
    "subjects=[\"Americans \",\"Indians\"]\n",
    "verbs=[\"play\",\"watch\"]\n",
    "objects=[\"Baseball\",\"Cricket\"]\n",
    "\n",
    "#Output should come as below:\n",
    "\n",
    "#Americans play Baseball.\n",
    "#Americans play Cricket.\n",
    "#Americans watch Baseball.\n",
    "#Americans watch Cricket.\n",
    "#Indians play Baseball.\n",
    "#Indians play Cricket.\n",
    "#Indians watch Baseball.\n",
    "#Indians watch Cricket.\n",
    "\n",
    "\n",
    "\n",
    "Sentence = [(sub + ' ' + verb + ' ' + obj + '.') for sub in subjects for verb in verbs for obj in objects]\n",
    "\n",
    "for x in Sentence:\n",
    "    print(x)"
   ]
  }
 ],
 "metadata": {
  "kernelspec": {
   "display_name": "Python 3",
   "language": "python",
   "name": "python3"
  },
  "language_info": {
   "codemirror_mode": {
    "name": "ipython",
    "version": 3
   },
   "file_extension": ".py",
   "mimetype": "text/x-python",
   "name": "python",
   "nbconvert_exporter": "python",
   "pygments_lexer": "ipython3",
   "version": "3.7.1"
  }
 },
 "nbformat": 4,
 "nbformat_minor": 2
}
